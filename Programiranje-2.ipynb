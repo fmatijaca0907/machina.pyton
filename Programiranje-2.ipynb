{
 "cells": [
  {
   "cell_type": "markdown",
   "metadata": {},
   "source": [
    "Python 2 - kontrola toka\n"
   ]
  },
  {
   "cell_type": "markdown",
   "metadata": {},
   "source": [
    "Parkiralište u Ericssonu je otvoreno između 8:45 i 10. Napiši program koji će za unešeno vrijeme u formatu HH:MM vratiti je li parkiralište otvoreno.\n"
   ]
  },
  {
   "cell_type": "code",
   "execution_count": 41,
   "metadata": {},
   "outputs": [
    {
     "name": "stdout",
     "output_type": "stream",
     "text": [
      "Parkiralište ne radi!\n"
     ]
    }
   ],
   "source": [
    "\n",
    "#Otvaranje\n",
    "P_Ericsson1 = \"8:40\"\n",
    "P1_sat,P1_minute = P_Ericsson1.split(\":\")\n",
    "P1_sat = int(P1_sat)\n",
    "P1_minute = int(P1_minute)\n",
    "  \n",
    "#Zatvaranje\n",
    "P_Ericsson2 = \"10:00\"\n",
    "P2_sat,P2_minute = P_Ericsson2.split(\":\")\n",
    "P2_sat = int(P2_sat)\n",
    "\n",
    "#Korisnik\n",
    "Vrijeme = input(\"Unesi vrijeme u HH:MM: \")\n",
    "Korisnik_vrijeme = Vrijeme.split(\":\")\n",
    "K_sati,K_minute = Korisnik_vrijeme\n",
    "K_sati = int(K_sati)\n",
    "K_minute = int(K_minute)\n",
    "\n",
    "#Program\n",
    "if K_sati == 8:\n",
    "    if K_minute > 45:\n",
    "        print(\"Parkiralište radi\")\n",
    "    else:\n",
    "        print(\"Parkiralište ne radi\")\n",
    "elif 8 < K_sati and K_sati < 10:\n",
    "    print(\"Parkiralište radi\")\n",
    "else:\n",
    "    print(\"Parkiralište ne radi!\")"
   ]
  },
  {
   "cell_type": "markdown",
   "metadata": {},
   "source": [
    "Napiši program koji će od korisnika učitati datum rođenja u nekom formatu i onda vratiti koji je to bio dan u tjednu.\n"
   ]
  },
  {
   "cell_type": "code",
   "execution_count": 32,
   "metadata": {},
   "outputs": [
    {
     "name": "stdout",
     "output_type": "stream",
     "text": [
      "Wednesday\n"
     ]
    }
   ],
   "source": [
    "#Korisnikov rođendan\n",
    "dan = int(input(\"Unesi dan rođenja: \"))\n",
    "mjesec = int(input(\"Unesi mjesec rođenja: \"))\n",
    "godina = int(input(\"Unesi godnu rođenja\"))\n",
    "\n",
    "#Prebacivanje u datum\n",
    "import datetime as dt\n",
    "datum = dt.datetime(godina,mjesec,dan).date()\n",
    "\n",
    "#Prebacivanje u dan\n",
    "dan_rođenja = dt.datetime.strftime(datum,\"%A\")\n",
    "print(dan_rođenja)"
   ]
  },
  {
   "cell_type": "markdown",
   "metadata": {},
   "source": []
  }
 ],
 "metadata": {
  "kernelspec": {
   "display_name": "Python 3",
   "language": "python",
   "name": "python3"
  },
  "language_info": {
   "codemirror_mode": {
    "name": "ipython",
    "version": 3
   },
   "file_extension": ".py",
   "mimetype": "text/x-python",
   "name": "python",
   "nbconvert_exporter": "python",
   "pygments_lexer": "ipython3",
   "version": "3.12.3"
  }
 },
 "nbformat": 4,
 "nbformat_minor": 2
}
