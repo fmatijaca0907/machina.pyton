{
 "cells": [
  {
   "cell_type": "markdown",
   "metadata": {},
   "source": [
    "Napiši program koji će simulirati borbu između dva lika u igri. Program treba:\n",
    "\n",
    "- na početku učitati od korisnika:\n",
    "    - naziv prvog lika\n",
    "    - naziv drugog lika\n",
    "    - health/zdravlje/HP/.... prvog lika\n",
    "    - health/zdravlje/HP/.... drugog lika\n",
    "    - raaspon štete koju prvi lik radi (u obliku \"1-3\")\n",
    "    - raaspon štete koju drugi lik radi\n",
    "- ponavljati sve dok su oba lika zdrava (iznad 0 healtha):\n",
    "    - za svakog lika izvući broj u danom rasponu\n",
    "    - primjeniti štetu na drugog lika\n",
    "- na kraju izvjestiti koji lik je preživio"
   ]
  },
  {
   "cell_type": "code",
   "execution_count": 4,
   "metadata": {},
   "outputs": [
    {
     "name": "stdout",
     "output_type": "stream",
     "text": [
      "Pobjedio je Frane ostalo mu je 20 HP\n",
      "Igra je završila u 9 napada.\n"
     ]
    }
   ],
   "source": [
    "#Podaci igraca:\n",
    "import random\n",
    "igrac1 = input(\"Unesi ime: \")\n",
    "igrac1_HP = int(input(\"Unesi HP:\"))\n",
    "igrac1_DPS = input(\"Unesi raspon štete (npr 1-5): \")\n",
    "\n",
    "igrac2 = input(\"Unesi ime: \")\n",
    "igrac2_HP = int(input(\"Unesi HP:\"))\n",
    "igrac2_DPS = input(\"Unesi raspon štete (npr 1-5): \")\n",
    "\n",
    "#Pretvorba za štete\n",
    "min_steta1,max_steta1 = igrac1_DPS.split(\"-\")\n",
    "min_steta1 = int(min_steta1)\n",
    "max_steta1 = int(max_steta1)\n",
    "\n",
    "min_steta2,max_steta2 = igrac2_DPS.split(\"-\")\n",
    "min_steta2 = int(min_steta2)\n",
    "max_steta2 = int(max_steta2)\n",
    "\n",
    "#Broj napada\n",
    "broj_napada = 0\n",
    "\n",
    "#Borba\n",
    "while True:\n",
    "    broj_napada += 1\n",
    "    igrac2_DPS = random.randint(min_steta2,max_steta2)\n",
    "    igrac1_HP = igrac1_HP - igrac2_DPS\n",
    "    if igrac1_HP <= 0 or igrac2_HP <= 0:\n",
    "        break\n",
    "\n",
    "    igrac1_DPS = random.randint(min_steta1,max_steta1)\n",
    "    igrac2_HP = igrac2_HP - igrac1_DPS\n",
    "    if igrac2_HP <= 0 or igrac1_HP <= 0:\n",
    "        break\n",
    "\n",
    "#Pobjednik\n",
    "if igrac1_HP > 0:\n",
    "    igrac1 = igrac1.title()\n",
    "    print(f\"Pobjedio je {igrac1} ostalo mu je {igrac1_HP} HP\")\n",
    "else:\n",
    "    igrac2 = igrac2.title()\n",
    "    print(f\"Pobjedio je {igrac2} ostalo mu je {igrac2_HP} HP\")\n",
    "print(f\"Igra je završila u {broj_napada} napada.\")"
   ]
  },
  {
   "cell_type": "code",
   "execution_count": null,
   "metadata": {},
   "outputs": [
    {
     "name": "stdout",
     "output_type": "stream",
     "text": [
      "Moraš unjeti ime\n",
      "Moraš unjeti ime\n",
      "Moraš unjeti ime\n",
      "Moraš unjeti ime\n"
     ]
    },
    {
     "ename": "KeyboardInterrupt",
     "evalue": "Interrupted by user",
     "output_type": "error",
     "traceback": [
      "\u001b[1;31m---------------------------------------------------------------------------\u001b[0m",
      "\u001b[1;31mKeyboardInterrupt\u001b[0m                         Traceback (most recent call last)",
      "Cell \u001b[1;32mIn[1], line 5\u001b[0m\n\u001b[0;32m      3\u001b[0m \u001b[38;5;28;01mwhile\u001b[39;00m ime \u001b[38;5;241m!=\u001b[39m \u001b[38;5;124m\"\u001b[39m\u001b[38;5;124m \u001b[39m\u001b[38;5;124m\"\u001b[39m:\n\u001b[0;32m      4\u001b[0m     \u001b[38;5;28mprint\u001b[39m(\u001b[38;5;124m\"\u001b[39m\u001b[38;5;124mMoraš unjeti ime\u001b[39m\u001b[38;5;124m\"\u001b[39m)\n\u001b[1;32m----> 5\u001b[0m     ime \u001b[38;5;241m=\u001b[39m \u001b[38;5;28;43minput\u001b[39;49m\u001b[43m(\u001b[49m\u001b[38;5;124;43m\"\u001b[39;49m\u001b[38;5;124;43mUnesi ime igraca\u001b[39;49m\u001b[38;5;124;43m\"\u001b[39;49m\u001b[43m)\u001b[49m\n",
      "File \u001b[1;32m~\\AppData\\Roaming\\Python\\Python312\\site-packages\\ipykernel\\kernelbase.py:1282\u001b[0m, in \u001b[0;36mKernel.raw_input\u001b[1;34m(self, prompt)\u001b[0m\n\u001b[0;32m   1280\u001b[0m     msg \u001b[38;5;241m=\u001b[39m \u001b[38;5;124m\"\u001b[39m\u001b[38;5;124mraw_input was called, but this frontend does not support input requests.\u001b[39m\u001b[38;5;124m\"\u001b[39m\n\u001b[0;32m   1281\u001b[0m     \u001b[38;5;28;01mraise\u001b[39;00m StdinNotImplementedError(msg)\n\u001b[1;32m-> 1282\u001b[0m \u001b[38;5;28;01mreturn\u001b[39;00m \u001b[38;5;28;43mself\u001b[39;49m\u001b[38;5;241;43m.\u001b[39;49m\u001b[43m_input_request\u001b[49m\u001b[43m(\u001b[49m\n\u001b[0;32m   1283\u001b[0m \u001b[43m    \u001b[49m\u001b[38;5;28;43mstr\u001b[39;49m\u001b[43m(\u001b[49m\u001b[43mprompt\u001b[49m\u001b[43m)\u001b[49m\u001b[43m,\u001b[49m\n\u001b[0;32m   1284\u001b[0m \u001b[43m    \u001b[49m\u001b[38;5;28;43mself\u001b[39;49m\u001b[38;5;241;43m.\u001b[39;49m\u001b[43m_parent_ident\u001b[49m\u001b[43m[\u001b[49m\u001b[38;5;124;43m\"\u001b[39;49m\u001b[38;5;124;43mshell\u001b[39;49m\u001b[38;5;124;43m\"\u001b[39;49m\u001b[43m]\u001b[49m\u001b[43m,\u001b[49m\n\u001b[0;32m   1285\u001b[0m \u001b[43m    \u001b[49m\u001b[38;5;28;43mself\u001b[39;49m\u001b[38;5;241;43m.\u001b[39;49m\u001b[43mget_parent\u001b[49m\u001b[43m(\u001b[49m\u001b[38;5;124;43m\"\u001b[39;49m\u001b[38;5;124;43mshell\u001b[39;49m\u001b[38;5;124;43m\"\u001b[39;49m\u001b[43m)\u001b[49m\u001b[43m,\u001b[49m\n\u001b[0;32m   1286\u001b[0m \u001b[43m    \u001b[49m\u001b[43mpassword\u001b[49m\u001b[38;5;241;43m=\u001b[39;49m\u001b[38;5;28;43;01mFalse\u001b[39;49;00m\u001b[43m,\u001b[49m\n\u001b[0;32m   1287\u001b[0m \u001b[43m\u001b[49m\u001b[43m)\u001b[49m\n",
      "File \u001b[1;32m~\\AppData\\Roaming\\Python\\Python312\\site-packages\\ipykernel\\kernelbase.py:1325\u001b[0m, in \u001b[0;36mKernel._input_request\u001b[1;34m(self, prompt, ident, parent, password)\u001b[0m\n\u001b[0;32m   1322\u001b[0m \u001b[38;5;28;01mexcept\u001b[39;00m \u001b[38;5;167;01mKeyboardInterrupt\u001b[39;00m:\n\u001b[0;32m   1323\u001b[0m     \u001b[38;5;66;03m# re-raise KeyboardInterrupt, to truncate traceback\u001b[39;00m\n\u001b[0;32m   1324\u001b[0m     msg \u001b[38;5;241m=\u001b[39m \u001b[38;5;124m\"\u001b[39m\u001b[38;5;124mInterrupted by user\u001b[39m\u001b[38;5;124m\"\u001b[39m\n\u001b[1;32m-> 1325\u001b[0m     \u001b[38;5;28;01mraise\u001b[39;00m \u001b[38;5;167;01mKeyboardInterrupt\u001b[39;00m(msg) \u001b[38;5;28;01mfrom\u001b[39;00m\u001b[38;5;250m \u001b[39m\u001b[38;5;28;01mNone\u001b[39;00m\n\u001b[0;32m   1326\u001b[0m \u001b[38;5;28;01mexcept\u001b[39;00m \u001b[38;5;167;01mException\u001b[39;00m:\n\u001b[0;32m   1327\u001b[0m     \u001b[38;5;28mself\u001b[39m\u001b[38;5;241m.\u001b[39mlog\u001b[38;5;241m.\u001b[39mwarning(\u001b[38;5;124m\"\u001b[39m\u001b[38;5;124mInvalid Message:\u001b[39m\u001b[38;5;124m\"\u001b[39m, exc_info\u001b[38;5;241m=\u001b[39m\u001b[38;5;28;01mTrue\u001b[39;00m)\n",
      "\u001b[1;31mKeyboardInterrupt\u001b[0m: Interrupted by user"
     ]
    }
   ],
   "source": [
    "#Program za upisat ime:\n",
    "ime = input(\"Unesi ime igrca\")\n",
    "while ime == \"\":\n",
    "    print(\"Moraš unjeti ime\")\n",
    "    ime = input(\"Unesi ime igraca\")"
   ]
  }
 ],
 "metadata": {
  "kernelspec": {
   "display_name": "Python 3",
   "language": "python",
   "name": "python3"
  },
  "language_info": {
   "codemirror_mode": {
    "name": "ipython",
    "version": 3
   },
   "file_extension": ".py",
   "mimetype": "text/x-python",
   "name": "python",
   "nbconvert_exporter": "python",
   "pygments_lexer": "ipython3",
   "version": "3.12.3"
  }
 },
 "nbformat": 4,
 "nbformat_minor": 2
}
