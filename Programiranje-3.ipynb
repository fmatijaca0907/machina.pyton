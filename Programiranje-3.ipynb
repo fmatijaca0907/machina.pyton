{
 "cells": [
  {
   "cell_type": "markdown",
   "metadata": {},
   "source": [
    "Napiši program koji će simulirati borbu između dva lika u igri. Program treba:\n",
    "\n",
    "- na početku učitati od korisnika:\n",
    "    - naziv prvog lika\n",
    "    - naziv drugog lika\n",
    "    - health/zdravlje/HP/.... prvog lika\n",
    "    - health/zdravlje/HP/.... drugog lika\n",
    "    - raaspon štete koju prvi lik radi (u obliku \"1-3\")\n",
    "    - raaspon štete koju drugi lik radi\n",
    "- ponavljati sve dok su oba lika zdrava (iznad 0 healtha):\n",
    "    - za svakog lika izvući broj u danom rasponu\n",
    "    - primjeniti štetu na drugog lika\n",
    "- na kraju izvjestiti koji lik je preživio"
   ]
  },
  {
   "cell_type": "code",
   "execution_count": 4,
   "metadata": {},
   "outputs": [
    {
     "name": "stdout",
     "output_type": "stream",
     "text": [
      "Pobjedio je Frane ostalo mu je 20 HP\n",
      "Igra je završila u 9 napada.\n"
     ]
    }
   ],
   "source": [
    "#Podaci igraca:\n",
    "import random\n",
    "igrac1 = input(\"Unesi ime: \")\n",
    "igrac1_HP = int(input(\"Unesi HP:\"))\n",
    "igrac1_DPS = input(\"Unesi raspon štete (npr 1-5): \")\n",
    "\n",
    "igrac2 = input(\"Unesi ime: \")\n",
    "igrac2_HP = int(input(\"Unesi HP:\"))\n",
    "igrac2_DPS = input(\"Unesi raspon štete (npr 1-5): \")\n",
    "\n",
    "#Pretvorba za štete\n",
    "min_steta1,max_steta1 = igrac1_DPS.split(\"-\")\n",
    "min_steta1 = int(min_steta1)\n",
    "max_steta1 = int(max_steta1)\n",
    "\n",
    "min_steta2,max_steta2 = igrac2_DPS.split(\"-\")\n",
    "min_steta2 = int(min_steta2)\n",
    "max_steta2 = int(max_steta2)\n",
    "\n",
    "#Broj napada\n",
    "broj_napada = 0\n",
    "\n",
    "#Borba\n",
    "while True:\n",
    "    broj_napada += 1\n",
    "    igrac2_DPS = random.randint(min_steta2,max_steta2)\n",
    "    igrac1_HP = igrac1_HP - igrac2_DPS\n",
    "    if igrac1_HP <= 0 or igrac2_HP <= 0:\n",
    "        break\n",
    "\n",
    "    igrac1_DPS = random.randint(min_steta1,max_steta1)\n",
    "    igrac2_HP = igrac2_HP - igrac1_DPS\n",
    "    if igrac2_HP <= 0 or igrac1_HP <= 0:\n",
    "        break\n",
    "\n",
    "#Pobjednik\n",
    "if igrac1_HP > 0:\n",
    "    igrac1 = igrac1.title()\n",
    "    print(f\"Pobjedio je {igrac1} ostalo mu je {igrac1_HP} HP\")\n",
    "else:\n",
    "    igrac2 = igrac2.title()\n",
    "    print(f\"Pobjedio je {igrac2} ostalo mu je {igrac2_HP} HP\")\n",
    "print(f\"Igra je završila u {broj_napada} napada.\")"
   ]
  }
 ],
 "metadata": {
  "kernelspec": {
   "display_name": "Python 3",
   "language": "python",
   "name": "python3"
  },
  "language_info": {
   "codemirror_mode": {
    "name": "ipython",
    "version": 3
   },
   "file_extension": ".py",
   "mimetype": "text/x-python",
   "name": "python",
   "nbconvert_exporter": "python",
   "pygments_lexer": "ipython3",
   "version": "3.12.3"
  }
 },
 "nbformat": 4,
 "nbformat_minor": 2
}
