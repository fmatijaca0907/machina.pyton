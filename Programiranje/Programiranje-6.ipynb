{
 "cells": [
  {
   "cell_type": "markdown",
   "metadata": {},
   "source": [
    "# Klase"
   ]
  },
  {
   "cell_type": "code",
   "execution_count": 198,
   "metadata": {},
   "outputs": [
    {
     "name": "stdout",
     "output_type": "stream",
     "text": [
      "Your microwave first must be turn on!\n",
      "Your Smeg microwave is turning on\n",
      "Your Smeg microwave runing for 43 seconds.\n"
     ]
    }
   ],
   "source": [
    "class Microwave:\n",
    "    def __init__(self,brand:str,power_raiting:str) -> None:\n",
    "        self.brand = brand\n",
    "        self.power_raiting = power_raiting\n",
    "        self.turned_on: bool = False\n",
    "\n",
    "    def turn_on(self) -> None:\n",
    "        if self.turned_on:\n",
    "            print(f\"Your {self.brand} microwave is already turned on\")\n",
    "        else:\n",
    "            self.turned_on = True\n",
    "            print(f\"Your {self.brand} microwave is turning on\")\n",
    "\n",
    "    def turn_off(self) -> None:\n",
    "        if self.turned_on:\n",
    "            print(f\"Your {self.brand} microwave is turning off\")\n",
    "            self.turned_on = False\n",
    "        else:\n",
    "            print(f\"Your {self.brand} is already turn off\")\n",
    "\n",
    "    def run(self,seconds:int) -> None:\n",
    "        if self.turned_on:\n",
    "            print(f\"Your {self.brand} microwave runing for {seconds} seconds.\")\n",
    "        else:\n",
    "            print(f\"Your microwave first must be turn on!\")\n",
    "\n",
    "smeg: Microwave = Microwave(\"Smeg\",\"B\")\n",
    "\n",
    "\n",
    "smeg.run(43)\n",
    "smeg.turn_on()\n",
    "smeg.run(43)"
   ]
  },
  {
   "cell_type": "markdown",
   "metadata": {},
   "source": [
    "#Kreirajte klasu kojom možete raditi s 2D točkama."
   ]
  },
  {
   "cell_type": "code",
   "execution_count": 352,
   "metadata": {},
   "outputs": [
    {
     "data": {
      "text/plain": [
       "'Polovište je: (1.5,3.0)'"
      ]
     },
     "execution_count": 352,
     "metadata": {},
     "output_type": "execute_result"
    }
   ],
   "source": [
    "#Točka....A1(2(x),5(y)) ili (2,5)\n",
    "import math\n",
    "class Točka():\n",
    "    \n",
    "    def __init__(self,x,y) -> None:\n",
    "        self.x = x\n",
    "        self.y = y\n",
    "\n",
    "#Udaljenost tocaka\n",
    "    def udaljenost_tocaka(self) -> float:\n",
    "        udaljenost = (A2.x - A1.x)**2 + (A2.y - A1.y)**2\n",
    "        udaljenost = math.sqrt(udaljenost)\n",
    "        return udaljenost\n",
    "\n",
    "\n",
    "    def polovište_duzine(self):  \n",
    "        # P = x1 + x2\n",
    "        polovište_x = A1.x + A2.x\n",
    "        # P = X / 2\n",
    "        polovište_x = polovište_x / 2\n",
    "        # P 0 y1 + y1\n",
    "        polovište_y = A1.y + A2.y\n",
    "        polovište_y = polovište_y / 2\n",
    "        return f\"Polovište je: ({polovište_x},{polovište_y})\"\n",
    "    \n",
    "\n",
    "\n",
    "\n",
    "A1: Točka = Točka(1,4)\n",
    "A2: Točka = Točka(2,2)\n",
    "\n",
    "\n",
    "A1.polovište_duzine()\n"
   ]
  },
  {
   "cell_type": "markdown",
   "metadata": {},
   "source": [
    "#Kreirajte klasu kojom možete raditi s 2D dužinama."
   ]
  }
 ],
 "metadata": {
  "kernelspec": {
   "display_name": "Python 3",
   "language": "python",
   "name": "python3"
  },
  "language_info": {
   "codemirror_mode": {
    "name": "ipython",
    "version": 3
   },
   "file_extension": ".py",
   "mimetype": "text/x-python",
   "name": "python",
   "nbconvert_exporter": "python",
   "pygments_lexer": "ipython3",
   "version": "3.12.3"
  }
 },
 "nbformat": 4,
 "nbformat_minor": 2
}
