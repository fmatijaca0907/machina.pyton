{
 "cells": [
  {
   "cell_type": "markdown",
   "metadata": {},
   "source": [
    "Programiranje 4 "
   ]
  },
  {
   "cell_type": "markdown",
   "metadata": {},
   "source": [
    "Napiši program koji će učitati ocjene odvojene razmakom. Program tada treba ispisati prosjek. Nakon toga se unese željeni prosjek. Program treba odrediti koju ocjenu je potrebno dobiti da se ostvari željeni prosjek (tj. najbliže iznad tog prosjeka).\n"
   ]
  },
  {
   "cell_type": "markdown",
   "metadata": {},
   "source": [
    "Riješi tako da je rezultat ocjena koja ispada iz raspona 1-5"
   ]
  },
  {
   "cell_type": "code",
   "execution_count": 38,
   "metadata": {},
   "outputs": [
    {
     "ename": "ValueError",
     "evalue": "invalid literal for int() with base 10: 'laura'",
     "output_type": "error",
     "traceback": [
      "\u001b[1;31m---------------------------------------------------------------------------\u001b[0m",
      "\u001b[1;31mValueError\u001b[0m                                Traceback (most recent call last)",
      "Cell \u001b[1;32mIn[38], line 3\u001b[0m\n\u001b[0;32m      1\u001b[0m ocjene \u001b[38;5;241m=\u001b[39m \u001b[38;5;28minput\u001b[39m(\u001b[38;5;124m\"\u001b[39m\u001b[38;5;124mUnesi ocjene\u001b[39m\u001b[38;5;124m\"\u001b[39m)\n\u001b[0;32m      2\u001b[0m ocjene \u001b[38;5;241m=\u001b[39m ocjene\u001b[38;5;241m.\u001b[39msplit()\n\u001b[1;32m----> 3\u001b[0m ocjene \u001b[38;5;241m=\u001b[39m [\u001b[38;5;28;43mint\u001b[39;49m\u001b[43m(\u001b[49m\u001b[43mocjena\u001b[49m\u001b[43m)\u001b[49m \u001b[38;5;28;01mfor\u001b[39;00m ocjena \u001b[38;5;129;01min\u001b[39;00m ocjene]\n\u001b[0;32m      4\u001b[0m zbroj \u001b[38;5;241m=\u001b[39m \u001b[38;5;28msum\u001b[39m(ocjene)\n\u001b[0;32m      5\u001b[0m broj \u001b[38;5;241m=\u001b[39m \u001b[38;5;28mlen\u001b[39m(ocjene)\n",
      "\u001b[1;31mValueError\u001b[0m: invalid literal for int() with base 10: 'laura'"
     ]
    }
   ],
   "source": [
    "ocjene = input(\"Unesi ocjene\")\n",
    "ocjene = ocjene.split()\n",
    "ocjene = [int(ocjena) for ocjena in ocjene]\n",
    "zbroj = sum(ocjene)\n",
    "broj = len(ocjene)\n",
    "prosjek = zbroj / broj\n",
    "print(f\"Tvoj prosjek je: {round(prosjek,2)}\")\n",
    "#Koji zelis prosjek\n",
    "novi_prosjek = input(\"Unesi zeljeni prosjek:\")\n",
    "novi_prosjek = float(novi_prosjek)\n",
    "nova_ocjena = novi_prosjek * (broj + 1)\n",
    "nova_ocjena = nova_ocjena - zbroj\n",
    "while nova_ocjena > 5:\n",
    "    novi_prosjek = novi_prosjek - 0.1\n",
    "    nova_ocjena = novi_prosjek * (broj + 1)\n",
    "    nova_ocjena = nova_ocjena - zbroj\n",
    "\n",
    "print(f\"Prosjek koji moze biti je: {round(novi_prosjek,2)}\")\n",
    "nova_ocjena = round(nova_ocjena)\n",
    "print(f\"Trebas dobiti minimalno ocjenu: {nova_ocjena}\")\n",
    "\n",
    "#lista ocjena\n",
    "ocjene.append(nova_ocjena)\n",
    "print(f\"Ovo bi trebale biti tvoje ocjene {ocjene}\")\n",
    "\n"
   ]
  }
 ],
 "metadata": {
  "kernelspec": {
   "display_name": "Python 3",
   "language": "python",
   "name": "python3"
  },
  "language_info": {
   "codemirror_mode": {
    "name": "ipython",
    "version": 3
   },
   "file_extension": ".py",
   "mimetype": "text/x-python",
   "name": "python",
   "nbconvert_exporter": "python",
   "pygments_lexer": "ipython3",
   "version": "3.12.3"
  }
 },
 "nbformat": 4,
 "nbformat_minor": 2
}
