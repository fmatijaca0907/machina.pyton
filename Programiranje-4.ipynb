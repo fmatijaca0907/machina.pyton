{
 "cells": [
  {
   "cell_type": "markdown",
   "metadata": {},
   "source": [
    "Programiranje 4 "
   ]
  },
  {
   "cell_type": "markdown",
   "metadata": {},
   "source": [
    "Napiši program koji će učitati ocjene odvojene razmakom. Program tada treba ispisati prosjek. Nakon toga se unese željeni prosjek. Program treba odrediti koju ocjenu je potrebno dobiti da se ostvari željeni prosjek (tj. najbliže iznad tog prosjeka).\n"
   ]
  },
  {
   "cell_type": "markdown",
   "metadata": {},
   "source": [
    "Riješi tako da je rezultat ocjena koja ispada iz raspona 1-5"
   ]
  },
  {
   "cell_type": "code",
   "execution_count": 2,
   "metadata": {},
   "outputs": [
    {
     "name": "stdout",
     "output_type": "stream",
     "text": [
      "Tvoj prosjek je: 2.75\n",
      "Prosjek koji moze biti je: 3.0\n",
      "Trebas dobiti minimalno ocjenu: 4\n",
      "Ovo bi trebale biti tvoje ocjene [2, 3, 2, 4, 4].\n"
     ]
    }
   ],
   "source": [
    "ocjene = input(\"Unesi ocjene\")\n",
    "ocjene = ocjene.split()\n",
    "ocjene = [int(ocjena) for ocjena in ocjene]\n",
    "zbroj = sum(ocjene)\n",
    "broj = len(ocjene)\n",
    "prosjek = zbroj / broj\n",
    "print(f\"Tvoj prosjek je: {round(prosjek,2)}\")\n",
    "#Koji zelis prosjek\n",
    "novi_prosjek = input(\"Unesi zeljeni prosjek:\")\n",
    "novi_prosjek = float(novi_prosjek)\n",
    "nova_ocjena = novi_prosjek * (broj + 1)\n",
    "nova_ocjena = nova_ocjena - zbroj\n",
    "while nova_ocjena > 5:\n",
    "    novi_prosjek = novi_prosjek - 0.1\n",
    "    nova_ocjena = novi_prosjek * (broj + 1)\n",
    "    nova_ocjena = nova_ocjena - zbroj\n",
    "\n",
    "print(f\"Prosjek koji moze biti je: {round(novi_prosjek,2)}\")\n",
    "nova_ocjena = round(nova_ocjena)\n",
    "print(f\"Trebas dobiti minimalno ocjenu: {nova_ocjena}\")\n",
    "\n",
    "#lista ocjena\n",
    "ocjene.append(nova_ocjena)\n",
    "print(f\"Ovo bi trebale biti tvoje ocjene {ocjene}.\")\n",
    "\n"
   ]
  }
 ],
 "metadata": {
  "kernelspec": {
   "display_name": "Python 3",
   "language": "python",
   "name": "python3"
  },
  "language_info": {
   "codemirror_mode": {
    "name": "ipython",
    "version": 3
   },
   "file_extension": ".py",
   "mimetype": "text/x-python",
   "name": "python",
   "nbconvert_exporter": "python",
   "pygments_lexer": "ipython3",
   "version": "3.12.3"
  }
 },
 "nbformat": 4,
 "nbformat_minor": 2
}
